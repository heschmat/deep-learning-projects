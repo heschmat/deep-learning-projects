{
 "cells": [
  {
   "cell_type": "code",
   "execution_count": 1,
   "metadata": {},
   "outputs": [],
   "source": [
    "import os\n",
    "from glob import glob"
   ]
  },
  {
   "cell_type": "code",
   "execution_count": 2,
   "metadata": {},
   "outputs": [],
   "source": [
    "import numpy as np \n",
    "import pandas as pd\n",
    "import matplotlib.pyplot as plt\n",
    "import seaborn as sns\n",
    "plt.style.use('fivethirtyeight')"
   ]
  },
  {
   "cell_type": "markdown",
   "metadata": {},
   "source": [
    "EDA is open-ended, and it is up to you to decide how to look at different ways to slice and dice your data. A good starting point is to look at the requirements for the FDA documentation in the final part of this project to guide (some) of the analyses you do. \n",
    "\n",
    "This EDA should also help to inform you of how pneumonia looks in the wild. E.g. what other types of diseases it's commonly found with, how often it is found, what ages it affects, etc. \n",
    "\n",
    "Note that this NIH dataset was not specifically acquired for pneumonia. So, while this is a representation of 'pneumonia in the wild,' the prevalence of pneumonia may be different if you were to take only chest x-rays that were acquired in an ER setting with suspicion of pneumonia. "
   ]
  },
  {
   "cell_type": "markdown",
   "metadata": {},
   "source": [
    "Perform the following EDA:\n",
    "* The patient demographic data such as gender, age, patient position,etc. (as it is available)\n",
    "* The x-ray views taken (i.e. view position)\n",
    "* The number of cases including: \n",
    "    * number of pneumonia cases,\n",
    "    * number of non-pneumonia cases\n",
    "* The distribution of other diseases that are comorbid with pneumonia\n",
    "* Number of disease per patient \n",
    "* Pixel-level assessments of the imaging data for healthy & disease states of interest (e.g. histograms of intensity values) and compare distributions across diseases.\n",
    "\n",
    "Note: use full NIH data to perform the first a few EDA items and use `sample_labels.csv` for the pixel-level assassements. "
   ]
  },
  {
   "cell_type": "markdown",
   "metadata": {},
   "source": [
    "Also, **describe your findings and how will you set up the model training based on the findings.**"
   ]
  },
  {
   "cell_type": "code",
   "execution_count": 3,
   "metadata": {},
   "outputs": [
    {
     "data": {
      "text/plain": [
       "(112120, 11)"
      ]
     },
     "execution_count": 3,
     "metadata": {},
     "output_type": "execute_result"
    }
   ],
   "source": [
    "# Load NIH data\n",
    "df = pd.read_csv('/data/Data_Entry_2017.csv', index_col= 0)\n",
    "df.shape"
   ]
  },
  {
   "cell_type": "code",
   "execution_count": 4,
   "metadata": {},
   "outputs": [
    {
     "data": {
      "text/plain": [
       "Index(['finding_labels', 'follow-up_#', 'patient_id', 'patient_age',\n",
       "       'patient_gender', 'view_position', 'originalimage[width', 'height]',\n",
       "       'originalimagepixelspacing[x', 'y]', 'unnamed:_11'],\n",
       "      dtype='object')"
      ]
     },
     "execution_count": 4,
     "metadata": {},
     "output_type": "execute_result"
    }
   ],
   "source": [
    "df.columns = df.columns.str.lower().str.replace(' ', '_')\n",
    "df.columns"
   ]
  },
  {
   "cell_type": "code",
   "execution_count": 5,
   "metadata": {},
   "outputs": [
    {
     "data": {
      "text/plain": [
       "finding_labels                 0.0\n",
       "follow-up_#                    0.0\n",
       "patient_id                     0.0\n",
       "patient_age                    0.0\n",
       "patient_gender                 0.0\n",
       "view_position                  0.0\n",
       "originalimage[width            0.0\n",
       "height]                        0.0\n",
       "originalimagepixelspacing[x    0.0\n",
       "y]                             0.0\n",
       "unnamed:_11                    1.0\n",
       "dtype: float64"
      ]
     },
     "execution_count": 5,
     "metadata": {},
     "output_type": "execute_result"
    }
   ],
   "source": [
    "df.isnull().mean(axis= 0)"
   ]
  },
  {
   "cell_type": "code",
   "execution_count": 6,
   "metadata": {},
   "outputs": [],
   "source": [
    "# Remove the columns with all NA values.\n",
    "df = df.drop(['unnamed:_11'], axis= 1)"
   ]
  },
  {
   "cell_type": "code",
   "execution_count": 7,
   "metadata": {},
   "outputs": [
    {
     "data": {
      "text/html": [
       "<div>\n",
       "<style scoped>\n",
       "    .dataframe tbody tr th:only-of-type {\n",
       "        vertical-align: middle;\n",
       "    }\n",
       "\n",
       "    .dataframe tbody tr th {\n",
       "        vertical-align: top;\n",
       "    }\n",
       "\n",
       "    .dataframe thead th {\n",
       "        text-align: right;\n",
       "    }\n",
       "</style>\n",
       "<table border=\"1\" class=\"dataframe\">\n",
       "  <thead>\n",
       "    <tr style=\"text-align: right;\">\n",
       "      <th></th>\n",
       "      <th>finding_labels</th>\n",
       "      <th>follow-up_#</th>\n",
       "      <th>patient_id</th>\n",
       "      <th>patient_age</th>\n",
       "      <th>patient_gender</th>\n",
       "      <th>view_position</th>\n",
       "      <th>img_width</th>\n",
       "      <th>img_height</th>\n",
       "      <th>pixel_spacing_x</th>\n",
       "      <th>pixel_spacing_y</th>\n",
       "    </tr>\n",
       "    <tr>\n",
       "      <th>Image Index</th>\n",
       "      <th></th>\n",
       "      <th></th>\n",
       "      <th></th>\n",
       "      <th></th>\n",
       "      <th></th>\n",
       "      <th></th>\n",
       "      <th></th>\n",
       "      <th></th>\n",
       "      <th></th>\n",
       "      <th></th>\n",
       "    </tr>\n",
       "  </thead>\n",
       "  <tbody>\n",
       "    <tr>\n",
       "      <th>00002723_010.png</th>\n",
       "      <td>No Finding</td>\n",
       "      <td>10</td>\n",
       "      <td>2723</td>\n",
       "      <td>58</td>\n",
       "      <td>F</td>\n",
       "      <td>PA</td>\n",
       "      <td>2992</td>\n",
       "      <td>2991</td>\n",
       "      <td>0.143</td>\n",
       "      <td>0.143</td>\n",
       "    </tr>\n",
       "    <tr>\n",
       "      <th>00010377_002.png</th>\n",
       "      <td>No Finding</td>\n",
       "      <td>2</td>\n",
       "      <td>10377</td>\n",
       "      <td>66</td>\n",
       "      <td>M</td>\n",
       "      <td>AP</td>\n",
       "      <td>2500</td>\n",
       "      <td>2048</td>\n",
       "      <td>0.168</td>\n",
       "      <td>0.168</td>\n",
       "    </tr>\n",
       "    <tr>\n",
       "      <th>00007651_000.png</th>\n",
       "      <td>Cardiomegaly</td>\n",
       "      <td>0</td>\n",
       "      <td>7651</td>\n",
       "      <td>71</td>\n",
       "      <td>M</td>\n",
       "      <td>PA</td>\n",
       "      <td>2048</td>\n",
       "      <td>2500</td>\n",
       "      <td>0.168</td>\n",
       "      <td>0.168</td>\n",
       "    </tr>\n",
       "    <tr>\n",
       "      <th>00018514_000.png</th>\n",
       "      <td>No Finding</td>\n",
       "      <td>0</td>\n",
       "      <td>18514</td>\n",
       "      <td>56</td>\n",
       "      <td>F</td>\n",
       "      <td>PA</td>\n",
       "      <td>2992</td>\n",
       "      <td>2991</td>\n",
       "      <td>0.143</td>\n",
       "      <td>0.143</td>\n",
       "    </tr>\n",
       "    <tr>\n",
       "      <th>00010137_000.png</th>\n",
       "      <td>Nodule</td>\n",
       "      <td>0</td>\n",
       "      <td>10137</td>\n",
       "      <td>42</td>\n",
       "      <td>F</td>\n",
       "      <td>PA</td>\n",
       "      <td>2048</td>\n",
       "      <td>2500</td>\n",
       "      <td>0.168</td>\n",
       "      <td>0.168</td>\n",
       "    </tr>\n",
       "    <tr>\n",
       "      <th>00013111_003.png</th>\n",
       "      <td>Consolidation</td>\n",
       "      <td>3</td>\n",
       "      <td>13111</td>\n",
       "      <td>23</td>\n",
       "      <td>M</td>\n",
       "      <td>AP</td>\n",
       "      <td>3056</td>\n",
       "      <td>2544</td>\n",
       "      <td>0.139</td>\n",
       "      <td>0.139</td>\n",
       "    </tr>\n",
       "    <tr>\n",
       "      <th>00001483_009.png</th>\n",
       "      <td>Effusion|Mass</td>\n",
       "      <td>9</td>\n",
       "      <td>1483</td>\n",
       "      <td>53</td>\n",
       "      <td>F</td>\n",
       "      <td>PA</td>\n",
       "      <td>2992</td>\n",
       "      <td>2991</td>\n",
       "      <td>0.143</td>\n",
       "      <td>0.143</td>\n",
       "    </tr>\n",
       "    <tr>\n",
       "      <th>00019730_018.png</th>\n",
       "      <td>Atelectasis|Nodule</td>\n",
       "      <td>18</td>\n",
       "      <td>19730</td>\n",
       "      <td>32</td>\n",
       "      <td>F</td>\n",
       "      <td>AP</td>\n",
       "      <td>2372</td>\n",
       "      <td>2596</td>\n",
       "      <td>0.139</td>\n",
       "      <td>0.139</td>\n",
       "    </tr>\n",
       "  </tbody>\n",
       "</table>\n",
       "</div>"
      ],
      "text/plain": [
       "                      finding_labels  follow-up_#  patient_id  patient_age  \\\n",
       "Image Index                                                                  \n",
       "00002723_010.png          No Finding           10        2723           58   \n",
       "00010377_002.png          No Finding            2       10377           66   \n",
       "00007651_000.png        Cardiomegaly            0        7651           71   \n",
       "00018514_000.png          No Finding            0       18514           56   \n",
       "00010137_000.png              Nodule            0       10137           42   \n",
       "00013111_003.png       Consolidation            3       13111           23   \n",
       "00001483_009.png       Effusion|Mass            9        1483           53   \n",
       "00019730_018.png  Atelectasis|Nodule           18       19730           32   \n",
       "\n",
       "                 patient_gender view_position  img_width  img_height  \\\n",
       "Image Index                                                            \n",
       "00002723_010.png              F            PA       2992        2991   \n",
       "00010377_002.png              M            AP       2500        2048   \n",
       "00007651_000.png              M            PA       2048        2500   \n",
       "00018514_000.png              F            PA       2992        2991   \n",
       "00010137_000.png              F            PA       2048        2500   \n",
       "00013111_003.png              M            AP       3056        2544   \n",
       "00001483_009.png              F            PA       2992        2991   \n",
       "00019730_018.png              F            AP       2372        2596   \n",
       "\n",
       "                  pixel_spacing_x  pixel_spacing_y  \n",
       "Image Index                                         \n",
       "00002723_010.png            0.143            0.143  \n",
       "00010377_002.png            0.168            0.168  \n",
       "00007651_000.png            0.168            0.168  \n",
       "00018514_000.png            0.143            0.143  \n",
       "00010137_000.png            0.168            0.168  \n",
       "00013111_003.png            0.139            0.139  \n",
       "00001483_009.png            0.143            0.143  \n",
       "00019730_018.png            0.139            0.139  "
      ]
     },
     "execution_count": 7,
     "metadata": {},
     "output_type": "execute_result"
    }
   ],
   "source": [
    "# Rename the dataframe for better readability.\n",
    "df.columns = ['finding_labels', 'follow-up_#', 'patient_id', 'patient_age', \n",
    "              'patient_gender', 'view_position', 'img_width', 'img_height',\n",
    "              'pixel_spacing_x', 'pixel_spacing_y']\n",
    "\n",
    "# Show sample data.\n",
    "df.sample(8, random_state= 0)"
   ]
  },
  {
   "cell_type": "code",
   "execution_count": 8,
   "metadata": {},
   "outputs": [
    {
     "data": {
      "text/plain": [
       "(5606, 10)"
      ]
     },
     "execution_count": 8,
     "metadata": {},
     "output_type": "execute_result"
    }
   ],
   "source": [
    "# Load 'sample_labels.csv' data for pixel level assessments\n",
    "dflabel_sample = pd.read_csv('sample_labels.csv', index_col= 0)\n",
    "dflabel_sample.shape"
   ]
  },
  {
   "cell_type": "code",
   "execution_count": 9,
   "metadata": {},
   "outputs": [
    {
     "data": {
      "text/plain": [
       "Index(['finding_labels', 'follow-up_#', 'patient_id', 'patient_age',\n",
       "       'patient_gender', 'view_position', 'img_width', 'img_height',\n",
       "       'img_pixelspacing_x', 'img_pixelspacing_y'],\n",
       "      dtype='object')"
      ]
     },
     "execution_count": 9,
     "metadata": {},
     "output_type": "execute_result"
    }
   ],
   "source": [
    "dflabel_sample.columns = dflabel_sample.columns.str.lower().str.replace(' ', '_')\n",
    "dflabel_sample.columns = dflabel_sample.columns.str.replace('originalimage', 'img_')\n",
    "dflabel_sample.columns"
   ]
  },
  {
   "cell_type": "code",
   "execution_count": 10,
   "metadata": {},
   "outputs": [
    {
     "data": {
      "text/html": [
       "<div>\n",
       "<style scoped>\n",
       "    .dataframe tbody tr th:only-of-type {\n",
       "        vertical-align: middle;\n",
       "    }\n",
       "\n",
       "    .dataframe tbody tr th {\n",
       "        vertical-align: top;\n",
       "    }\n",
       "\n",
       "    .dataframe thead th {\n",
       "        text-align: right;\n",
       "    }\n",
       "</style>\n",
       "<table border=\"1\" class=\"dataframe\">\n",
       "  <thead>\n",
       "    <tr style=\"text-align: right;\">\n",
       "      <th></th>\n",
       "      <th>finding_labels</th>\n",
       "      <th>follow-up_#</th>\n",
       "      <th>patient_id</th>\n",
       "      <th>patient_age</th>\n",
       "      <th>patient_gender</th>\n",
       "      <th>view_position</th>\n",
       "      <th>img_width</th>\n",
       "      <th>img_height</th>\n",
       "      <th>img_pixelspacing_x</th>\n",
       "      <th>img_pixelspacing_y</th>\n",
       "    </tr>\n",
       "    <tr>\n",
       "      <th>Image Index</th>\n",
       "      <th></th>\n",
       "      <th></th>\n",
       "      <th></th>\n",
       "      <th></th>\n",
       "      <th></th>\n",
       "      <th></th>\n",
       "      <th></th>\n",
       "      <th></th>\n",
       "      <th></th>\n",
       "      <th></th>\n",
       "    </tr>\n",
       "  </thead>\n",
       "  <tbody>\n",
       "    <tr>\n",
       "      <th>00003838_000.png</th>\n",
       "      <td>No Finding</td>\n",
       "      <td>0</td>\n",
       "      <td>3838</td>\n",
       "      <td>052Y</td>\n",
       "      <td>F</td>\n",
       "      <td>PA</td>\n",
       "      <td>2048</td>\n",
       "      <td>2500</td>\n",
       "      <td>0.168</td>\n",
       "      <td>0.168</td>\n",
       "    </tr>\n",
       "    <tr>\n",
       "      <th>00008127_001.png</th>\n",
       "      <td>No Finding</td>\n",
       "      <td>1</td>\n",
       "      <td>8127</td>\n",
       "      <td>032Y</td>\n",
       "      <td>F</td>\n",
       "      <td>PA</td>\n",
       "      <td>2048</td>\n",
       "      <td>2500</td>\n",
       "      <td>0.168</td>\n",
       "      <td>0.168</td>\n",
       "    </tr>\n",
       "    <tr>\n",
       "      <th>00027001_001.png</th>\n",
       "      <td>No Finding</td>\n",
       "      <td>1</td>\n",
       "      <td>27001</td>\n",
       "      <td>057Y</td>\n",
       "      <td>F</td>\n",
       "      <td>AP</td>\n",
       "      <td>3056</td>\n",
       "      <td>2544</td>\n",
       "      <td>0.139</td>\n",
       "      <td>0.139</td>\n",
       "    </tr>\n",
       "    <tr>\n",
       "      <th>00017950_001.png</th>\n",
       "      <td>Infiltration</td>\n",
       "      <td>1</td>\n",
       "      <td>17950</td>\n",
       "      <td>027Y</td>\n",
       "      <td>F</td>\n",
       "      <td>PA</td>\n",
       "      <td>2702</td>\n",
       "      <td>2991</td>\n",
       "      <td>0.143</td>\n",
       "      <td>0.143</td>\n",
       "    </tr>\n",
       "    <tr>\n",
       "      <th>00018507_012.png</th>\n",
       "      <td>No Finding</td>\n",
       "      <td>12</td>\n",
       "      <td>18507</td>\n",
       "      <td>070Y</td>\n",
       "      <td>M</td>\n",
       "      <td>PA</td>\n",
       "      <td>2992</td>\n",
       "      <td>2991</td>\n",
       "      <td>0.143</td>\n",
       "      <td>0.143</td>\n",
       "    </tr>\n",
       "  </tbody>\n",
       "</table>\n",
       "</div>"
      ],
      "text/plain": [
       "                 finding_labels  follow-up_#  patient_id patient_age  \\\n",
       "Image Index                                                            \n",
       "00003838_000.png     No Finding            0        3838        052Y   \n",
       "00008127_001.png     No Finding            1        8127        032Y   \n",
       "00027001_001.png     No Finding            1       27001        057Y   \n",
       "00017950_001.png   Infiltration            1       17950        027Y   \n",
       "00018507_012.png     No Finding           12       18507        070Y   \n",
       "\n",
       "                 patient_gender view_position  img_width  img_height  \\\n",
       "Image Index                                                            \n",
       "00003838_000.png              F            PA       2048        2500   \n",
       "00008127_001.png              F            PA       2048        2500   \n",
       "00027001_001.png              F            AP       3056        2544   \n",
       "00017950_001.png              F            PA       2702        2991   \n",
       "00018507_012.png              M            PA       2992        2991   \n",
       "\n",
       "                  img_pixelspacing_x  img_pixelspacing_y  \n",
       "Image Index                                               \n",
       "00003838_000.png               0.168               0.168  \n",
       "00008127_001.png               0.168               0.168  \n",
       "00027001_001.png               0.139               0.139  \n",
       "00017950_001.png               0.143               0.143  \n",
       "00018507_012.png               0.143               0.143  "
      ]
     },
     "execution_count": 10,
     "metadata": {},
     "output_type": "execute_result"
    }
   ],
   "source": [
    "dflabel_sample.sample(5, random_state= 0)"
   ]
  },
  {
   "cell_type": "code",
   "execution_count": null,
   "metadata": {},
   "outputs": [],
   "source": []
  },
  {
   "cell_type": "markdown",
   "metadata": {},
   "source": [
    "## EDA"
   ]
  },
  {
   "cell_type": "code",
   "execution_count": 11,
   "metadata": {},
   "outputs": [
    {
     "data": {
      "text/html": [
       "<div>\n",
       "<style scoped>\n",
       "    .dataframe tbody tr th:only-of-type {\n",
       "        vertical-align: middle;\n",
       "    }\n",
       "\n",
       "    .dataframe tbody tr th {\n",
       "        vertical-align: top;\n",
       "    }\n",
       "\n",
       "    .dataframe thead th {\n",
       "        text-align: right;\n",
       "    }\n",
       "</style>\n",
       "<table border=\"1\" class=\"dataframe\">\n",
       "  <thead>\n",
       "    <tr style=\"text-align: right;\">\n",
       "      <th></th>\n",
       "      <th>finding_labels</th>\n",
       "      <th>follow-up_#</th>\n",
       "      <th>patient_id</th>\n",
       "      <th>patient_age</th>\n",
       "      <th>patient_gender</th>\n",
       "      <th>view_position</th>\n",
       "      <th>img_width</th>\n",
       "      <th>img_height</th>\n",
       "      <th>pixel_spacing_x</th>\n",
       "      <th>pixel_spacing_y</th>\n",
       "    </tr>\n",
       "    <tr>\n",
       "      <th>Image Index</th>\n",
       "      <th></th>\n",
       "      <th></th>\n",
       "      <th></th>\n",
       "      <th></th>\n",
       "      <th></th>\n",
       "      <th></th>\n",
       "      <th></th>\n",
       "      <th></th>\n",
       "      <th></th>\n",
       "      <th></th>\n",
       "    </tr>\n",
       "  </thead>\n",
       "  <tbody>\n",
       "    <tr>\n",
       "      <th>00005567_000.png</th>\n",
       "      <td>Effusion|Pneumonia</td>\n",
       "      <td>0</td>\n",
       "      <td>5567</td>\n",
       "      <td>412</td>\n",
       "      <td>M</td>\n",
       "      <td>AP</td>\n",
       "      <td>3056</td>\n",
       "      <td>2544</td>\n",
       "      <td>0.139</td>\n",
       "      <td>0.139</td>\n",
       "    </tr>\n",
       "    <tr>\n",
       "      <th>00011973_002.png</th>\n",
       "      <td>Edema</td>\n",
       "      <td>2</td>\n",
       "      <td>11973</td>\n",
       "      <td>414</td>\n",
       "      <td>M</td>\n",
       "      <td>AP</td>\n",
       "      <td>3056</td>\n",
       "      <td>2544</td>\n",
       "      <td>0.139</td>\n",
       "      <td>0.139</td>\n",
       "    </tr>\n",
       "    <tr>\n",
       "      <th>00012238_010.png</th>\n",
       "      <td>No Finding</td>\n",
       "      <td>10</td>\n",
       "      <td>12238</td>\n",
       "      <td>148</td>\n",
       "      <td>M</td>\n",
       "      <td>PA</td>\n",
       "      <td>2992</td>\n",
       "      <td>2991</td>\n",
       "      <td>0.143</td>\n",
       "      <td>0.143</td>\n",
       "    </tr>\n",
       "    <tr>\n",
       "      <th>00013950_000.png</th>\n",
       "      <td>No Finding</td>\n",
       "      <td>0</td>\n",
       "      <td>13950</td>\n",
       "      <td>148</td>\n",
       "      <td>M</td>\n",
       "      <td>PA</td>\n",
       "      <td>2964</td>\n",
       "      <td>2939</td>\n",
       "      <td>0.143</td>\n",
       "      <td>0.143</td>\n",
       "    </tr>\n",
       "    <tr>\n",
       "      <th>00014520_026.png</th>\n",
       "      <td>Infiltration|Mass</td>\n",
       "      <td>26</td>\n",
       "      <td>14520</td>\n",
       "      <td>150</td>\n",
       "      <td>M</td>\n",
       "      <td>PA</td>\n",
       "      <td>2992</td>\n",
       "      <td>2991</td>\n",
       "      <td>0.143</td>\n",
       "      <td>0.143</td>\n",
       "    </tr>\n",
       "    <tr>\n",
       "      <th>00015558_000.png</th>\n",
       "      <td>No Finding</td>\n",
       "      <td>0</td>\n",
       "      <td>15558</td>\n",
       "      <td>149</td>\n",
       "      <td>M</td>\n",
       "      <td>PA</td>\n",
       "      <td>2992</td>\n",
       "      <td>2991</td>\n",
       "      <td>0.143</td>\n",
       "      <td>0.143</td>\n",
       "    </tr>\n",
       "    <tr>\n",
       "      <th>00018366_044.png</th>\n",
       "      <td>Pneumothorax</td>\n",
       "      <td>44</td>\n",
       "      <td>18366</td>\n",
       "      <td>152</td>\n",
       "      <td>F</td>\n",
       "      <td>PA</td>\n",
       "      <td>2302</td>\n",
       "      <td>2991</td>\n",
       "      <td>0.143</td>\n",
       "      <td>0.143</td>\n",
       "    </tr>\n",
       "    <tr>\n",
       "      <th>00019346_000.png</th>\n",
       "      <td>Infiltration</td>\n",
       "      <td>0</td>\n",
       "      <td>19346</td>\n",
       "      <td>151</td>\n",
       "      <td>F</td>\n",
       "      <td>PA</td>\n",
       "      <td>2678</td>\n",
       "      <td>2774</td>\n",
       "      <td>0.143</td>\n",
       "      <td>0.143</td>\n",
       "    </tr>\n",
       "    <tr>\n",
       "      <th>00020900_002.png</th>\n",
       "      <td>No Finding</td>\n",
       "      <td>2</td>\n",
       "      <td>20900</td>\n",
       "      <td>411</td>\n",
       "      <td>M</td>\n",
       "      <td>AP</td>\n",
       "      <td>3056</td>\n",
       "      <td>2544</td>\n",
       "      <td>0.139</td>\n",
       "      <td>0.139</td>\n",
       "    </tr>\n",
       "    <tr>\n",
       "      <th>00021047_002.png</th>\n",
       "      <td>Mass|Pleural_Thickening</td>\n",
       "      <td>2</td>\n",
       "      <td>21047</td>\n",
       "      <td>412</td>\n",
       "      <td>M</td>\n",
       "      <td>AP</td>\n",
       "      <td>3056</td>\n",
       "      <td>2544</td>\n",
       "      <td>0.139</td>\n",
       "      <td>0.139</td>\n",
       "    </tr>\n",
       "    <tr>\n",
       "      <th>00021275_003.png</th>\n",
       "      <td>No Finding</td>\n",
       "      <td>3</td>\n",
       "      <td>21275</td>\n",
       "      <td>413</td>\n",
       "      <td>F</td>\n",
       "      <td>AP</td>\n",
       "      <td>3056</td>\n",
       "      <td>2544</td>\n",
       "      <td>0.139</td>\n",
       "      <td>0.139</td>\n",
       "    </tr>\n",
       "    <tr>\n",
       "      <th>00022811_000.png</th>\n",
       "      <td>No Finding</td>\n",
       "      <td>0</td>\n",
       "      <td>22811</td>\n",
       "      <td>412</td>\n",
       "      <td>M</td>\n",
       "      <td>PA</td>\n",
       "      <td>3056</td>\n",
       "      <td>2544</td>\n",
       "      <td>0.139</td>\n",
       "      <td>0.139</td>\n",
       "    </tr>\n",
       "    <tr>\n",
       "      <th>00025206_000.png</th>\n",
       "      <td>Infiltration|Mass</td>\n",
       "      <td>0</td>\n",
       "      <td>25206</td>\n",
       "      <td>153</td>\n",
       "      <td>M</td>\n",
       "      <td>PA</td>\n",
       "      <td>2992</td>\n",
       "      <td>2991</td>\n",
       "      <td>0.143</td>\n",
       "      <td>0.143</td>\n",
       "    </tr>\n",
       "    <tr>\n",
       "      <th>00026028_001.png</th>\n",
       "      <td>Atelectasis</td>\n",
       "      <td>1</td>\n",
       "      <td>26028</td>\n",
       "      <td>154</td>\n",
       "      <td>M</td>\n",
       "      <td>PA</td>\n",
       "      <td>2992</td>\n",
       "      <td>2991</td>\n",
       "      <td>0.143</td>\n",
       "      <td>0.143</td>\n",
       "    </tr>\n",
       "    <tr>\n",
       "      <th>00026871_000.png</th>\n",
       "      <td>No Finding</td>\n",
       "      <td>0</td>\n",
       "      <td>26871</td>\n",
       "      <td>155</td>\n",
       "      <td>F</td>\n",
       "      <td>PA</td>\n",
       "      <td>2992</td>\n",
       "      <td>2991</td>\n",
       "      <td>0.143</td>\n",
       "      <td>0.143</td>\n",
       "    </tr>\n",
       "    <tr>\n",
       "      <th>00027989_000.png</th>\n",
       "      <td>No Finding</td>\n",
       "      <td>0</td>\n",
       "      <td>27989</td>\n",
       "      <td>155</td>\n",
       "      <td>M</td>\n",
       "      <td>PA</td>\n",
       "      <td>2992</td>\n",
       "      <td>2991</td>\n",
       "      <td>0.143</td>\n",
       "      <td>0.143</td>\n",
       "    </tr>\n",
       "  </tbody>\n",
       "</table>\n",
       "</div>"
      ],
      "text/plain": [
       "                           finding_labels  follow-up_#  patient_id  \\\n",
       "Image Index                                                          \n",
       "00005567_000.png       Effusion|Pneumonia            0        5567   \n",
       "00011973_002.png                    Edema            2       11973   \n",
       "00012238_010.png               No Finding           10       12238   \n",
       "00013950_000.png               No Finding            0       13950   \n",
       "00014520_026.png        Infiltration|Mass           26       14520   \n",
       "00015558_000.png               No Finding            0       15558   \n",
       "00018366_044.png             Pneumothorax           44       18366   \n",
       "00019346_000.png             Infiltration            0       19346   \n",
       "00020900_002.png               No Finding            2       20900   \n",
       "00021047_002.png  Mass|Pleural_Thickening            2       21047   \n",
       "00021275_003.png               No Finding            3       21275   \n",
       "00022811_000.png               No Finding            0       22811   \n",
       "00025206_000.png        Infiltration|Mass            0       25206   \n",
       "00026028_001.png              Atelectasis            1       26028   \n",
       "00026871_000.png               No Finding            0       26871   \n",
       "00027989_000.png               No Finding            0       27989   \n",
       "\n",
       "                  patient_age patient_gender view_position  img_width  \\\n",
       "Image Index                                                             \n",
       "00005567_000.png          412              M            AP       3056   \n",
       "00011973_002.png          414              M            AP       3056   \n",
       "00012238_010.png          148              M            PA       2992   \n",
       "00013950_000.png          148              M            PA       2964   \n",
       "00014520_026.png          150              M            PA       2992   \n",
       "00015558_000.png          149              M            PA       2992   \n",
       "00018366_044.png          152              F            PA       2302   \n",
       "00019346_000.png          151              F            PA       2678   \n",
       "00020900_002.png          411              M            AP       3056   \n",
       "00021047_002.png          412              M            AP       3056   \n",
       "00021275_003.png          413              F            AP       3056   \n",
       "00022811_000.png          412              M            PA       3056   \n",
       "00025206_000.png          153              M            PA       2992   \n",
       "00026028_001.png          154              M            PA       2992   \n",
       "00026871_000.png          155              F            PA       2992   \n",
       "00027989_000.png          155              M            PA       2992   \n",
       "\n",
       "                  img_height  pixel_spacing_x  pixel_spacing_y  \n",
       "Image Index                                                     \n",
       "00005567_000.png        2544            0.139            0.139  \n",
       "00011973_002.png        2544            0.139            0.139  \n",
       "00012238_010.png        2991            0.143            0.143  \n",
       "00013950_000.png        2939            0.143            0.143  \n",
       "00014520_026.png        2991            0.143            0.143  \n",
       "00015558_000.png        2991            0.143            0.143  \n",
       "00018366_044.png        2991            0.143            0.143  \n",
       "00019346_000.png        2774            0.143            0.143  \n",
       "00020900_002.png        2544            0.139            0.139  \n",
       "00021047_002.png        2544            0.139            0.139  \n",
       "00021275_003.png        2544            0.139            0.139  \n",
       "00022811_000.png        2544            0.139            0.139  \n",
       "00025206_000.png        2991            0.143            0.143  \n",
       "00026028_001.png        2991            0.143            0.143  \n",
       "00026871_000.png        2991            0.143            0.143  \n",
       "00027989_000.png        2991            0.143            0.143  "
      ]
     },
     "execution_count": 11,
     "metadata": {},
     "output_type": "execute_result"
    }
   ],
   "source": [
    "df.loc[df['patient_age'] >= 100]"
   ]
  },
  {
   "cell_type": "code",
   "execution_count": 12,
   "metadata": {},
   "outputs": [],
   "source": [
    "df = df.loc[df['patient_age'] < 100]"
   ]
  },
  {
   "cell_type": "code",
   "execution_count": 13,
   "metadata": {},
   "outputs": [
    {
     "data": {
      "text/plain": [
       "count    112104.0\n",
       "mean         46.9\n",
       "std          16.6\n",
       "min           1.0\n",
       "25%          35.0\n",
       "50%          49.0\n",
       "75%          59.0\n",
       "max          95.0\n",
       "Name: patient_age, dtype: float64"
      ]
     },
     "execution_count": 13,
     "metadata": {},
     "output_type": "execute_result"
    }
   ],
   "source": [
    "df['patient_age'].describe().round(1)"
   ]
  },
  {
   "cell_type": "code",
   "execution_count": 14,
   "metadata": {},
   "outputs": [
    {
     "data": {
      "image/png": "[encoded data removed]",
      "text/plain": [
       "<Figure size 432x288 with 1 Axes>"
      ]
     },
     "metadata": {},
     "output_type": "display_data"
    }
   ],
   "source": [
    "plt.hist(df['patient_age'], bins= 47);"
   ]
  },
  {
   "cell_type": "code",
   "execution_count": 15,
   "metadata": {},
   "outputs": [
    {
     "data": {
      "image/png": "[encoded data removed]",
      "text/plain": [
       "<Figure size 432x288 with 1 Axes>"
      ]
     },
     "metadata": {},
     "output_type": "display_data"
    }
   ],
   "source": [
    "df['patient_gender'].value_counts(dropna= False, normalize= True).plot(kind= 'bar');"
   ]
  },
  {
   "cell_type": "markdown",
   "metadata": {},
   "source": [
    "### Findings"
   ]
  },
  {
   "cell_type": "markdown",
   "metadata": {},
   "source": [
    "For some of the images there are multiple findings. I'll separate the findings into multiple columns with one-hot-encoding technique. Furthermore, I'll convert the findings to lowercase."
   ]
  },
  {
   "cell_type": "code",
   "execution_count": 16,
   "metadata": {},
   "outputs": [
    {
     "data": {
      "text/plain": [
       "Image Index\n",
       "00000001_000.png              Cardiomegaly\n",
       "00000001_001.png    Cardiomegaly|Emphysema\n",
       "00000001_002.png     Cardiomegaly|Effusion\n",
       "00000002_000.png                No Finding\n",
       "00000003_000.png                    Hernia\n",
       "00000003_001.png                    Hernia\n",
       "00000003_002.png                    Hernia\n",
       "00000003_003.png       Hernia|Infiltration\n",
       "00000003_004.png                    Hernia\n",
       "00000003_005.png                    Hernia\n",
       "Name: finding_labels, dtype: object"
      ]
     },
     "execution_count": 16,
     "metadata": {},
     "output_type": "execute_result"
    }
   ],
   "source": [
    "df['finding_labels'].head(10)"
   ]
  },
  {
   "cell_type": "code",
   "execution_count": 17,
   "metadata": {},
   "outputs": [
    {
     "name": "stdout",
     "output_type": "stream",
     "text": [
      "Overall, there are 15 different findings for all the images.\n"
     ]
    }
   ],
   "source": [
    "dffindings = df['finding_labels'].str.lower().str.replace(' ', '_').str.get_dummies()\n",
    "print(f'Overall, there are {dffindings.shape[1]} different findings for all the images.')"
   ]
  },
  {
   "cell_type": "code",
   "execution_count": 18,
   "metadata": {},
   "outputs": [
    {
     "data": {
      "text/plain": [
       "array(['atelectasis', 'cardiomegaly', 'consolidation', 'edema',\n",
       "       'effusion', 'emphysema', 'fibrosis', 'hernia', 'infiltration',\n",
       "       'mass', 'no_finding', 'nodule', 'pleural_thickening', 'pneumonia',\n",
       "       'pneumothorax'], dtype=object)"
      ]
     },
     "execution_count": 18,
     "metadata": {},
     "output_type": "execute_result"
    }
   ],
   "source": [
    "# These are the various findings\n",
    "dffindings.columns.values"
   ]
  },
  {
   "cell_type": "code",
   "execution_count": 19,
   "metadata": {},
   "outputs": [
    {
     "data": {
      "text/html": [
       "<div>\n",
       "<style scoped>\n",
       "    .dataframe tbody tr th:only-of-type {\n",
       "        vertical-align: middle;\n",
       "    }\n",
       "\n",
       "    .dataframe tbody tr th {\n",
       "        vertical-align: top;\n",
       "    }\n",
       "\n",
       "    .dataframe thead th {\n",
       "        text-align: right;\n",
       "    }\n",
       "</style>\n",
       "<table border=\"1\" class=\"dataframe\">\n",
       "  <thead>\n",
       "    <tr style=\"text-align: right;\">\n",
       "      <th></th>\n",
       "      <th>atelectasis</th>\n",
       "      <th>cardiomegaly</th>\n",
       "      <th>consolidation</th>\n",
       "      <th>edema</th>\n",
       "      <th>effusion</th>\n",
       "      <th>emphysema</th>\n",
       "      <th>fibrosis</th>\n",
       "      <th>hernia</th>\n",
       "      <th>infiltration</th>\n",
       "      <th>mass</th>\n",
       "      <th>no_finding</th>\n",
       "      <th>nodule</th>\n",
       "      <th>pleural_thickening</th>\n",
       "      <th>pneumonia</th>\n",
       "      <th>pneumothorax</th>\n",
       "    </tr>\n",
       "    <tr>\n",
       "      <th>Image Index</th>\n",
       "      <th></th>\n",
       "      <th></th>\n",
       "      <th></th>\n",
       "      <th></th>\n",
       "      <th></th>\n",
       "      <th></th>\n",
       "      <th></th>\n",
       "      <th></th>\n",
       "      <th></th>\n",
       "      <th></th>\n",
       "      <th></th>\n",
       "      <th></th>\n",
       "      <th></th>\n",
       "      <th></th>\n",
       "      <th></th>\n",
       "    </tr>\n",
       "  </thead>\n",
       "  <tbody>\n",
       "    <tr>\n",
       "      <th>00000001_000.png</th>\n",
       "      <td>0</td>\n",
       "      <td>1</td>\n",
       "      <td>0</td>\n",
       "      <td>0</td>\n",
       "      <td>0</td>\n",
       "      <td>0</td>\n",
       "      <td>0</td>\n",
       "      <td>0</td>\n",
       "      <td>0</td>\n",
       "      <td>0</td>\n",
       "      <td>0</td>\n",
       "      <td>0</td>\n",
       "      <td>0</td>\n",
       "      <td>0</td>\n",
       "      <td>0</td>\n",
       "    </tr>\n",
       "    <tr>\n",
       "      <th>00000001_001.png</th>\n",
       "      <td>0</td>\n",
       "      <td>1</td>\n",
       "      <td>0</td>\n",
       "      <td>0</td>\n",
       "      <td>0</td>\n",
       "      <td>1</td>\n",
       "      <td>0</td>\n",
       "      <td>0</td>\n",
       "      <td>0</td>\n",
       "      <td>0</td>\n",
       "      <td>0</td>\n",
       "      <td>0</td>\n",
       "      <td>0</td>\n",
       "      <td>0</td>\n",
       "      <td>0</td>\n",
       "    </tr>\n",
       "    <tr>\n",
       "      <th>00000001_002.png</th>\n",
       "      <td>0</td>\n",
       "      <td>1</td>\n",
       "      <td>0</td>\n",
       "      <td>0</td>\n",
       "      <td>1</td>\n",
       "      <td>0</td>\n",
       "      <td>0</td>\n",
       "      <td>0</td>\n",
       "      <td>0</td>\n",
       "      <td>0</td>\n",
       "      <td>0</td>\n",
       "      <td>0</td>\n",
       "      <td>0</td>\n",
       "      <td>0</td>\n",
       "      <td>0</td>\n",
       "    </tr>\n",
       "  </tbody>\n",
       "</table>\n",
       "</div>"
      ],
      "text/plain": [
       "                  atelectasis  cardiomegaly  consolidation  edema  effusion  \\\n",
       "Image Index                                                                   \n",
       "00000001_000.png            0             1              0      0         0   \n",
       "00000001_001.png            0             1              0      0         0   \n",
       "00000001_002.png            0             1              0      0         1   \n",
       "\n",
       "                  emphysema  fibrosis  hernia  infiltration  mass  no_finding  \\\n",
       "Image Index                                                                     \n",
       "00000001_000.png          0         0       0             0     0           0   \n",
       "00000001_001.png          1         0       0             0     0           0   \n",
       "00000001_002.png          0         0       0             0     0           0   \n",
       "\n",
       "                  nodule  pleural_thickening  pneumonia  pneumothorax  \n",
       "Image Index                                                            \n",
       "00000001_000.png       0                   0          0             0  \n",
       "00000001_001.png       0                   0          0             0  \n",
       "00000001_002.png       0                   0          0             0  "
      ]
     },
     "execution_count": 19,
     "metadata": {},
     "output_type": "execute_result"
    }
   ],
   "source": [
    "dffindings.head(3)"
   ]
  },
  {
   "cell_type": "code",
   "execution_count": 20,
   "metadata": {},
   "outputs": [
    {
     "data": {
      "text/plain": [
       "''"
      ]
     },
     "execution_count": 20,
     "metadata": {},
     "output_type": "execute_result"
    },
    {
     "data": {
      "image/png": "[encoded data removed]",
      "text/plain": [
       "<Figure size 720x432 with 1 Axes>"
      ]
     },
     "metadata": {},
     "output_type": "display_data"
    }
   ],
   "source": [
    "plt.figure(figsize= (10, 6))\n",
    "s = dffindings.mean().round(3)\n",
    "s.plot(kind= 'bar')\n",
    "for ix, m in enumerate(s):\n",
    "    plt.text(x = ix - .35 , y = m, s = m, size = 11)\n",
    "plt.title('Finding Labels for Images')\n",
    "plt.ylabel('Frequency')\n",
    ";"
   ]
  },
  {
   "cell_type": "code",
   "execution_count": null,
   "metadata": {},
   "outputs": [],
   "source": []
  }
 ],
 "metadata": {
  "kernelspec": {
   "display_name": "Python 3",
   "language": "python",
   "name": "python3"
  },
  "language_info": {
   "codemirror_mode": {
    "name": "ipython",
    "version": 3
   },
   "file_extension": ".py",
   "mimetype": "text/x-python",
   "name": "python",
   "nbconvert_exporter": "python",
   "pygments_lexer": "ipython3",
   "version": "3.7.6"
  }
 },
 "nbformat": 4,
 "nbformat_minor": 2
}
